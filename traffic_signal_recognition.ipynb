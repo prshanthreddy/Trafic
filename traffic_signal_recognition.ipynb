{
 "cells": [
  {
   "cell_type": "markdown",
   "metadata": {},
   "source": [
    "## Import required libraries"
   ]
  },
  {
   "cell_type": "code",
   "execution_count": 1,
   "metadata": {},
   "outputs": [],
   "source": [
    "import numpy as np \n",
    "import pandas as pd \n",
    "import matplotlib.pyplot as plt\n",
    "import cv2\n",
    "import tensorflow as tf\n",
    "from PIL import Image\n",
    "import os\n",
    "from sklearn.model_selection import train_test_split\n",
    "from keras.utils import to_categorical\n",
    "from keras.models import Sequential, load_model\n",
    "from keras.layers import Conv2D, MaxPool2D, Dense, Flatten, Dropout"
   ]
  },
  {
   "cell_type": "code",
   "execution_count": 2,
   "metadata": {},
   "outputs": [
    {
     "name": "stdout",
     "output_type": "stream",
     "text": [
      "Requirement already satisfied: scikit-image in /opt/homebrew/Caskroom/miniforge/base/lib/python3.9/site-packages (0.20.0)\n",
      "Requirement already satisfied: numpy>=1.21.1 in /opt/homebrew/Caskroom/miniforge/base/lib/python3.9/site-packages (from scikit-image) (1.23.2)\n",
      "Requirement already satisfied: scipy<1.9.2,>=1.8 in /opt/homebrew/Caskroom/miniforge/base/lib/python3.9/site-packages (from scikit-image) (1.8.1)\n",
      "Requirement already satisfied: networkx>=2.8 in /opt/homebrew/Caskroom/miniforge/base/lib/python3.9/site-packages (from scikit-image) (3.1)\n",
      "Requirement already satisfied: PyWavelets>=1.1.1 in /opt/homebrew/Caskroom/miniforge/base/lib/python3.9/site-packages (from scikit-image) (1.4.1)\n",
      "Requirement already satisfied: lazy_loader>=0.1 in /opt/homebrew/Caskroom/miniforge/base/lib/python3.9/site-packages (from scikit-image) (0.2)\n",
      "Requirement already satisfied: packaging>=20.0 in /opt/homebrew/Caskroom/miniforge/base/lib/python3.9/site-packages (from scikit-image) (21.3)\n",
      "Requirement already satisfied: pillow>=9.0.1 in /opt/homebrew/Caskroom/miniforge/base/lib/python3.9/site-packages (from scikit-image) (9.1.1)\n",
      "Requirement already satisfied: imageio>=2.4.1 in /opt/homebrew/Caskroom/miniforge/base/lib/python3.9/site-packages (from scikit-image) (2.27.0)\n",
      "Requirement already satisfied: tifffile>=2019.7.26 in /opt/homebrew/Caskroom/miniforge/base/lib/python3.9/site-packages (from scikit-image) (2023.4.12)\n",
      "Requirement already satisfied: pyparsing!=3.0.5,>=2.0.2 in /opt/homebrew/Caskroom/miniforge/base/lib/python3.9/site-packages (from packaging>=20.0->scikit-image) (3.0.9)\n",
      "\n",
      "\u001b[1m[\u001b[0m\u001b[34;49mnotice\u001b[0m\u001b[1;39;49m]\u001b[0m\u001b[39;49m A new release of pip is available: \u001b[0m\u001b[31;49m23.0\u001b[0m\u001b[39;49m -> \u001b[0m\u001b[32;49m23.0.1\u001b[0m\n",
      "\u001b[1m[\u001b[0m\u001b[34;49mnotice\u001b[0m\u001b[1;39;49m]\u001b[0m\u001b[39;49m To update, run: \u001b[0m\u001b[32;49m/opt/homebrew/Caskroom/miniforge/base/bin/python -m pip install --upgrade pip\u001b[0m\n",
      "Note: you may need to restart the kernel to use updated packages.\n"
     ]
    }
   ],
   "source": [
    "pip install scikit-image"
   ]
  },
  {
   "cell_type": "code",
   "execution_count": 3,
   "metadata": {},
   "outputs": [
    {
     "name": "stdout",
     "output_type": "stream",
     "text": [
      "Package                                           Version\r\n",
      "------------------------------------------------- -----------\r\n",
      "absl-py                                           1.3.0\r\n",
      "aiohttp                                           3.8.3\r\n",
      "aiosignal                                         1.3.1\r\n",
      "altair                                            4.2.2\r\n",
      "appnope                                           0.1.3\r\n",
      "asttokens                                         2.2.1\r\n",
      "astunparse                                        1.6.3\r\n",
      "async-timeout                                     4.0.2\r\n",
      "attrs                                             22.1.0\r\n",
      "backcall                                          0.2.0\r\n",
      "beautifulsoup4                                    4.11.1\r\n",
      "blinker                                           1.5\r\n",
      "brotlipy                                          0.7.0\r\n",
      "bs4                                               0.0.1\r\n",
      "cached-property                                   1.5.2\r\n",
      "cachetools                                        5.2.0\r\n",
      "certifi                                           2022.12.7\r\n",
      "cffi                                              1.15.1\r\n",
      "chardet                                           3.0.4\r\n",
      "charset-normalizer                                2.1.1\r\n",
      "click                                             8.1.3\r\n",
      "cloudscraper                                      1.2.24\r\n",
      "collection                                        0.1.6\r\n",
      "coloredlogs                                       10.0\r\n",
      "comm                                              0.1.2\r\n",
      "contourpy                                         1.0.6\r\n",
      "cryptography                                      38.0.4\r\n",
      "cycler                                            0.11.0\r\n",
      "Cython                                            0.29.33\r\n",
      "datasets                                          2.9.0\r\n",
      "daytime                                           0.4\r\n",
      "debugpy                                           1.6.6\r\n",
      "decorator                                         5.1.1\r\n",
      "dill                                              0.3.6\r\n",
      "dm-sonnet                                         1.23\r\n",
      "editdistance                                      0.5.3\r\n",
      "entrypoints                                       0.4\r\n",
      "executing                                         1.2.0\r\n",
      "filelock                                          3.9.0\r\n",
      "Flask                                             2.2.2\r\n",
      "flatbuffers                                       2.0\r\n",
      "fonttools                                         4.38.0\r\n",
      "frozenlist                                        1.3.3\r\n",
      "fsspec                                            2023.1.0\r\n",
      "gast                                              0.4.0\r\n",
      "gitdb                                             4.0.10\r\n",
      "GitPython                                         3.1.31\r\n",
      "google-auth                                       2.15.0\r\n",
      "google-auth-oauthlib                              1.0.0\r\n",
      "google-pasta                                      0.2.0\r\n",
      "grpcio                                            1.53.0\r\n",
      "gunicorn                                          20.1.0\r\n",
      "h5py                                              3.7.0\r\n",
      "huggingface-hub                                   0.12.0\r\n",
      "humanfriendly                                     10.0\r\n",
      "idna                                              2.8\r\n",
      "importlib-metadata                                5.1.0\r\n",
      "ipykernel                                         6.21.2\r\n",
      "ipython                                           8.10.0\r\n",
      "ipywidgets                                        8.0.4\r\n",
      "itsdangerous                                      2.1.2\r\n",
      "jax                                               0.4.8\r\n",
      "jedi                                              0.18.2\r\n",
      "Jinja2                                            3.1.2\r\n",
      "joblib                                            1.2.0\r\n",
      "jsonschema                                        4.17.3\r\n",
      "jupyter_client                                    8.0.2\r\n",
      "jupyter_core                                      5.2.0\r\n",
      "jupyterlab-widgets                                3.0.5\r\n",
      "keras                                             2.12.0\r\n",
      "Keras-Applications                                1.0.8\r\n",
      "Keras-Preprocessing                               1.1.2\r\n",
      "kiwisolver                                        1.4.4\r\n",
      "libclang                                          16.0.0\r\n",
      "llvmlite                                          0.39.1\r\n",
      "lxml                                              4.9.1\r\n",
      "Markdown                                          3.4.1\r\n",
      "markdown-it-py                                    2.2.0\r\n",
      "MarkupSafe                                        2.1.1\r\n",
      "matplotlib                                        3.6.2\r\n",
      "matplotlib-inline                                 0.1.6\r\n",
      "mdurl                                             0.1.2\r\n",
      "ml-dtypes                                         0.0.4\r\n",
      "multidict                                         6.0.2\r\n",
      "multiprocess                                      0.70.14\r\n",
      "nest-asyncio                                      1.5.6\r\n",
      "nltk                                              3.4.5\r\n",
      "numba                                             0.56.4\r\n",
      "numpy                                             1.23.5\r\n",
      "oauthlib                                          3.2.2\r\n",
      "opencv-python                                     4.7.0.72\r\n",
      "opt-einsum                                        3.3.0\r\n",
      "packaging                                         21.3\r\n",
      "pandas                                            1.5.2\r\n",
      "parso                                             0.8.3\r\n",
      "pexpect                                           4.8.0\r\n",
      "pickleshare                                       0.7.5\r\n",
      "Pillow                                            9.3.0\r\n",
      "pip                                               23.0.1\r\n",
      "platformdirs                                      3.0.0\r\n",
      "plotly                                            5.13.0\r\n",
      "prompt-toolkit                                    3.0.36\r\n",
      "protobuf                                          3.20.3\r\n",
      "psutil                                            5.9.4\r\n",
      "ptyprocess                                        0.7.0\r\n",
      "pure-eval                                         0.2.2\r\n",
      "pyarrow                                           11.0.0\r\n",
      "pyasn1                                            0.4.8\r\n",
      "pyasn1-modules                                    0.2.7\r\n",
      "pycparser                                         2.21\r\n",
      "pydantic                                          1.10.4\r\n",
      "pydeck                                            0.8.0\r\n",
      "Pygments                                          2.14.0\r\n",
      "PyJWT                                             2.6.0\r\n",
      "Pympler                                           1.0.1\r\n",
      "pynndescent                                       0.5.8\r\n",
      "pyobjc                                            9.0.1\r\n",
      "pyobjc-core                                       9.0.1\r\n",
      "pyobjc-framework-Accessibility                    9.0.1\r\n",
      "pyobjc-framework-Accounts                         9.0.1\r\n",
      "pyobjc-framework-AddressBook                      9.0.1\r\n",
      "pyobjc-framework-AdServices                       9.0.1\r\n",
      "pyobjc-framework-AdSupport                        9.0.1\r\n",
      "pyobjc-framework-AppleScriptKit                   9.0.1\r\n",
      "pyobjc-framework-AppleScriptObjC                  9.0.1\r\n",
      "pyobjc-framework-ApplicationServices              9.0.1\r\n",
      "pyobjc-framework-AppTrackingTransparency          9.0.1\r\n",
      "pyobjc-framework-AudioVideoBridging               9.0.1\r\n",
      "pyobjc-framework-AuthenticationServices           9.0.1\r\n",
      "pyobjc-framework-AutomaticAssessmentConfiguration 9.0.1\r\n",
      "pyobjc-framework-Automator                        9.0.1\r\n",
      "pyobjc-framework-AVFoundation                     9.0.1\r\n",
      "pyobjc-framework-AVKit                            9.0.1\r\n",
      "pyobjc-framework-AVRouting                        9.0.1\r\n",
      "pyobjc-framework-BackgroundAssets                 9.0.1\r\n",
      "pyobjc-framework-BusinessChat                     9.0.1\r\n",
      "pyobjc-framework-CalendarStore                    9.0.1\r\n",
      "pyobjc-framework-CallKit                          9.0.1\r\n",
      "pyobjc-framework-CFNetwork                        9.0.1\r\n",
      "pyobjc-framework-ClassKit                         9.0.1\r\n",
      "pyobjc-framework-CloudKit                         9.0.1\r\n",
      "pyobjc-framework-Cocoa                            9.0.1\r\n",
      "pyobjc-framework-Collaboration                    9.0.1\r\n",
      "pyobjc-framework-ColorSync                        9.0.1\r\n",
      "pyobjc-framework-Contacts                         9.0.1\r\n",
      "pyobjc-framework-ContactsUI                       9.0.1\r\n",
      "pyobjc-framework-CoreAudio                        9.0.1\r\n",
      "pyobjc-framework-CoreAudioKit                     9.0.1\r\n",
      "pyobjc-framework-CoreBluetooth                    9.0.1\r\n",
      "pyobjc-framework-CoreData                         9.0.1\r\n",
      "pyobjc-framework-CoreHaptics                      9.0.1\r\n",
      "pyobjc-framework-CoreLocation                     9.0.1\r\n",
      "pyobjc-framework-CoreMedia                        9.0.1\r\n",
      "pyobjc-framework-CoreMediaIO                      9.0.1\r\n",
      "pyobjc-framework-CoreMIDI                         9.0.1\r\n",
      "pyobjc-framework-CoreML                           9.0.1\r\n",
      "pyobjc-framework-CoreMotion                       9.0.1\r\n",
      "pyobjc-framework-CoreServices                     9.0.1\r\n",
      "pyobjc-framework-CoreSpotlight                    9.0.1\r\n",
      "pyobjc-framework-CoreText                         9.0.1\r\n",
      "pyobjc-framework-CoreWLAN                         9.0.1\r\n",
      "pyobjc-framework-CryptoTokenKit                   9.0.1\r\n",
      "pyobjc-framework-DataDetection                    9.0.1\r\n",
      "pyobjc-framework-DeviceCheck                      9.0.1\r\n",
      "pyobjc-framework-DictionaryServices               9.0.1\r\n",
      "pyobjc-framework-DiscRecording                    9.0.1\r\n",
      "pyobjc-framework-DiscRecordingUI                  9.0.1\r\n",
      "pyobjc-framework-DiskArbitration                  9.0.1\r\n",
      "pyobjc-framework-DVDPlayback                      9.0.1\r\n",
      "pyobjc-framework-EventKit                         9.0.1\r\n",
      "pyobjc-framework-ExceptionHandling                9.0.1\r\n",
      "pyobjc-framework-ExecutionPolicy                  9.0.1\r\n",
      "pyobjc-framework-ExtensionKit                     9.0.1\r\n",
      "pyobjc-framework-ExternalAccessory                9.0.1\r\n",
      "pyobjc-framework-FileProvider                     9.0.1\r\n",
      "pyobjc-framework-FileProviderUI                   9.0.1\r\n",
      "pyobjc-framework-FinderSync                       9.0.1\r\n",
      "pyobjc-framework-FSEvents                         9.0.1\r\n",
      "pyobjc-framework-GameCenter                       9.0.1\r\n",
      "pyobjc-framework-GameController                   9.0.1\r\n",
      "pyobjc-framework-GameKit                          9.0.1\r\n",
      "pyobjc-framework-GameplayKit                      9.0.1\r\n",
      "pyobjc-framework-HealthKit                        9.0.1\r\n",
      "pyobjc-framework-ImageCaptureCore                 9.0.1\r\n",
      "pyobjc-framework-IMServicePlugIn                  9.0.1\r\n",
      "pyobjc-framework-InputMethodKit                   9.0.1\r\n",
      "pyobjc-framework-InstallerPlugins                 9.0.1\r\n",
      "pyobjc-framework-InstantMessage                   9.0.1\r\n",
      "pyobjc-framework-Intents                          9.0.1\r\n",
      "pyobjc-framework-IntentsUI                        9.0.1\r\n",
      "pyobjc-framework-IOSurface                        9.0.1\r\n",
      "pyobjc-framework-iTunesLibrary                    9.0.1\r\n",
      "pyobjc-framework-KernelManagement                 9.0.1\r\n",
      "pyobjc-framework-LatentSemanticMapping            9.0.1\r\n",
      "pyobjc-framework-LaunchServices                   9.0.1\r\n",
      "pyobjc-framework-libdispatch                      9.0.1\r\n",
      "pyobjc-framework-LinkPresentation                 9.0.1\r\n",
      "pyobjc-framework-LocalAuthentication              9.0.1\r\n",
      "pyobjc-framework-LocalAuthenticationEmbeddedUI    9.0.1\r\n",
      "pyobjc-framework-MailKit                          9.0.1\r\n",
      "pyobjc-framework-MapKit                           9.0.1\r\n",
      "pyobjc-framework-MediaAccessibility               9.0.1\r\n",
      "pyobjc-framework-MediaLibrary                     9.0.1\r\n",
      "pyobjc-framework-MediaPlayer                      9.0.1\r\n",
      "pyobjc-framework-MediaToolbox                     9.0.1\r\n",
      "pyobjc-framework-Metal                            9.0.1\r\n",
      "pyobjc-framework-MetalFX                          9.0.1\r\n",
      "pyobjc-framework-MetalKit                         9.0.1\r\n",
      "pyobjc-framework-MetalPerformanceShaders          9.0.1\r\n",
      "pyobjc-framework-MetalPerformanceShadersGraph     9.0.1\r\n",
      "pyobjc-framework-MetricKit                        9.0.1\r\n",
      "pyobjc-framework-MLCompute                        9.0.1\r\n",
      "pyobjc-framework-ModelIO                          9.0.1\r\n",
      "pyobjc-framework-MultipeerConnectivity            9.0.1\r\n",
      "pyobjc-framework-NaturalLanguage                  9.0.1\r\n",
      "pyobjc-framework-NetFS                            9.0.1\r\n",
      "pyobjc-framework-Network                          9.0.1\r\n",
      "pyobjc-framework-NetworkExtension                 9.0.1\r\n",
      "pyobjc-framework-NotificationCenter               9.0.1\r\n",
      "pyobjc-framework-OpenDirectory                    9.0.1\r\n",
      "pyobjc-framework-OSAKit                           9.0.1\r\n",
      "pyobjc-framework-OSLog                            9.0.1\r\n",
      "pyobjc-framework-PassKit                          9.0.1\r\n",
      "pyobjc-framework-PencilKit                        9.0.1\r\n",
      "pyobjc-framework-Photos                           9.0.1\r\n",
      "pyobjc-framework-PhotosUI                         9.0.1\r\n",
      "pyobjc-framework-PreferencePanes                  9.0.1\r\n",
      "pyobjc-framework-PushKit                          9.0.1\r\n",
      "pyobjc-framework-Quartz                           9.0.1\r\n",
      "pyobjc-framework-QuickLookThumbnailing            9.0.1\r\n",
      "pyobjc-framework-ReplayKit                        9.0.1\r\n",
      "pyobjc-framework-SafariServices                   9.0.1\r\n",
      "pyobjc-framework-SafetyKit                        9.0.1\r\n",
      "pyobjc-framework-SceneKit                         9.0.1\r\n",
      "pyobjc-framework-ScreenCaptureKit                 9.0.1\r\n",
      "pyobjc-framework-ScreenSaver                      9.0.1\r\n",
      "pyobjc-framework-ScreenTime                       9.0.1\r\n",
      "pyobjc-framework-ScriptingBridge                  9.0.1\r\n",
      "pyobjc-framework-SearchKit                        9.0.1\r\n",
      "pyobjc-framework-Security                         9.0.1\r\n",
      "pyobjc-framework-SecurityFoundation               9.0.1\r\n",
      "pyobjc-framework-SecurityInterface                9.0.1\r\n",
      "pyobjc-framework-ServiceManagement                9.0.1\r\n"
     ]
    },
    {
     "name": "stdout",
     "output_type": "stream",
     "text": [
      "pyobjc-framework-SharedWithYou                    9.0.1\r\n",
      "pyobjc-framework-SharedWithYouCore                9.0.1\r\n",
      "pyobjc-framework-ShazamKit                        9.0.1\r\n",
      "pyobjc-framework-Social                           9.0.1\r\n",
      "pyobjc-framework-SoundAnalysis                    9.0.1\r\n",
      "pyobjc-framework-Speech                           9.0.1\r\n",
      "pyobjc-framework-SpriteKit                        9.0.1\r\n",
      "pyobjc-framework-StoreKit                         9.0.1\r\n",
      "pyobjc-framework-SyncServices                     9.0.1\r\n",
      "pyobjc-framework-SystemConfiguration              9.0.1\r\n",
      "pyobjc-framework-SystemExtensions                 9.0.1\r\n",
      "pyobjc-framework-ThreadNetwork                    9.0.1\r\n",
      "pyobjc-framework-UniformTypeIdentifiers           9.0.1\r\n",
      "pyobjc-framework-UserNotifications                9.0.1\r\n",
      "pyobjc-framework-UserNotificationsUI              9.0.1\r\n",
      "pyobjc-framework-VideoSubscriberAccount           9.0.1\r\n",
      "pyobjc-framework-VideoToolbox                     9.0.1\r\n",
      "pyobjc-framework-Virtualization                   9.0.1\r\n",
      "pyobjc-framework-Vision                           9.0.1\r\n",
      "pyobjc-framework-WebKit                           9.0.1\r\n",
      "pyOpenSSL                                         22.1.0\r\n",
      "pyparsing                                         3.0.9\r\n",
      "pyrsistent                                        0.19.3\r\n",
      "PySocks                                           1.7.1\r\n",
      "python-dateutil                                   2.8.2\r\n",
      "pyttsx3                                           2.90\r\n",
      "pytz                                              2022.7\r\n",
      "pytz-deprecation-shim                             0.1.0.post0\r\n",
      "pyu2f                                             0.1.5\r\n",
      "PyYAML                                            6.0\r\n",
      "pyzmq                                             25.0.0\r\n",
      "regex                                             2022.10.31\r\n",
      "requests                                          2.22.0\r\n",
      "requests-oauthlib                                 1.3.1\r\n",
      "requests-toolbelt                                 0.10.1\r\n",
      "responses                                         0.18.0\r\n",
      "rich                                              13.3.3\r\n",
      "rsa                                               4.9\r\n",
      "scikit-learn                                      1.2.1\r\n",
      "scipy                                             1.9.3\r\n",
      "seaborn                                           0.12.1\r\n",
      "sequence                                          0.3.4\r\n",
      "sequences                                         0.0.8\r\n",
      "setuptools                                        65.5.1\r\n",
      "six                                               1.16.0\r\n",
      "sklearn                                           0.0.post1\r\n",
      "smmap                                             5.0.0\r\n",
      "soupsieve                                         2.3.2.post1\r\n",
      "stack-data                                        0.6.2\r\n",
      "streamlit                                         1.21.0\r\n",
      "tenacity                                          8.2.1\r\n",
      "tensorboard                                       2.12.1\r\n",
      "tensorboard-data-server                           0.7.0\r\n",
      "tensorboard-plugin-wit                            1.8.1\r\n",
      "tensorflow-estimator                              2.12.0\r\n",
      "tensorflow-macos                                  2.12.0\r\n",
      "termcolor                                         2.1.1\r\n",
      "threadpoolctl                                     3.1.0\r\n",
      "tokenizers                                        0.13.2\r\n",
      "toml                                              0.10.2\r\n",
      "toolz                                             0.12.0\r\n",
      "torch                                             1.13.1\r\n",
      "tornado                                           6.2\r\n",
      "tqdm                                              4.64.1\r\n",
      "traitlets                                         5.9.0\r\n",
      "transformers                                      4.26.1\r\n",
      "typing_extensions                                 4.4.0\r\n",
      "tzdata                                            2023.3\r\n",
      "tzlocal                                           4.3\r\n",
      "umap-learn                                        0.5.3\r\n",
      "uptrain                                           0.0.4\r\n",
      "urllib3                                           1.25.11\r\n",
      "validators                                        0.20.0\r\n",
      "wcwidth                                           0.2.6\r\n",
      "Werkzeug                                          2.2.2\r\n",
      "wheel                                             0.38.4\r\n",
      "widgetsnbextension                                4.0.5\r\n",
      "wordcloud                                         1.8.2.2\r\n",
      "wrapt                                             1.14.1\r\n",
      "xxhash                                            3.2.0\r\n",
      "yarl                                              1.8.1\r\n",
      "zipp                                              3.11.0\r\n"
     ]
    }
   ],
   "source": [
    "!pip list"
   ]
  },
  {
   "cell_type": "markdown",
   "metadata": {},
   "source": [
    "## Store data, labels in the list"
   ]
  },
  {
   "cell_type": "code",
   "execution_count": 2,
   "metadata": {},
   "outputs": [],
   "source": [
    "data = []\n",
    "labels = []\n",
    "# We have 43 Classes\n",
    "classes = 43\n",
    "cur_path = os.getcwd()"
   ]
  },
  {
   "cell_type": "code",
   "execution_count": 3,
   "metadata": {},
   "outputs": [
    {
     "data": {
      "text/plain": [
       "'/Users/prashanthreddy/Documents/Major project/traffic-sign-detection-main'"
      ]
     },
     "execution_count": 3,
     "metadata": {},
     "output_type": "execute_result"
    }
   ],
   "source": [
    "cur_path"
   ]
  },
  {
   "cell_type": "markdown",
   "metadata": {},
   "source": [
    "## Preprocess the images"
   ]
  },
  {
   "cell_type": "code",
   "execution_count": 4,
   "metadata": {},
   "outputs": [
    {
     "name": "stdout",
     "output_type": "stream",
     "text": [
      "cannot identify image file '/Users/prashanthreddy/Documents/Major project/traffic-sign-detection-main/train/6//.DS_Store'\n"
     ]
    }
   ],
   "source": [
    "for i in range(classes):\n",
    "    path = os.path.join(cur_path,'train',str(i))\n",
    "    images = os.listdir(path)\n",
    "    for a in images:\n",
    "        try:\n",
    "            image = Image.open(path + '//'+ a)\n",
    "            image = image.resize((30,30))\n",
    "            image = np.array(image)\n",
    "            data.append(image)\n",
    "            labels.append(i)\n",
    "        except Exception as e:\n",
    "            print(e)"
   ]
  },
  {
   "cell_type": "markdown",
   "metadata": {},
   "source": [
    "## Converting lists into numpy arrays"
   ]
  },
  {
   "cell_type": "code",
   "execution_count": 5,
   "metadata": {},
   "outputs": [],
   "source": [
    "data = np.array(data)\n",
    "labels = np.array(labels)"
   ]
  },
  {
   "cell_type": "markdown",
   "metadata": {},
   "source": [
    "## Save Labels & Data for future use"
   ]
  },
  {
   "cell_type": "code",
   "execution_count": 6,
   "metadata": {},
   "outputs": [],
   "source": [
    "# os.mkdir('training')\n",
    "np.save('./training/data',data)\n",
    "np.save('./training/target',labels)"
   ]
  },
  {
   "cell_type": "markdown",
   "metadata": {},
   "source": [
    "## Load data & Labels"
   ]
  },
  {
   "cell_type": "code",
   "execution_count": 7,
   "metadata": {},
   "outputs": [],
   "source": [
    "data=np.load('./training/data.npy')\n",
    "labels=np.load('./training/target.npy')"
   ]
  },
  {
   "cell_type": "code",
   "execution_count": 8,
   "metadata": {},
   "outputs": [
    {
     "name": "stdout",
     "output_type": "stream",
     "text": [
      "(39209, 30, 30, 3) (39209,)\n"
     ]
    }
   ],
   "source": [
    "print(data.shape, labels.shape)"
   ]
  },
  {
   "cell_type": "code",
   "execution_count": 9,
   "metadata": {},
   "outputs": [],
   "source": [
    "X_train, X_test, y_train, y_test = train_test_split(data, labels, test_size=0.2, random_state=0)"
   ]
  },
  {
   "cell_type": "code",
   "execution_count": 10,
   "metadata": {},
   "outputs": [
    {
     "name": "stdout",
     "output_type": "stream",
     "text": [
      "(31367, 30, 30, 3) (7842, 30, 30, 3) (31367,) (7842,)\n"
     ]
    }
   ],
   "source": [
    "print(X_train.shape, X_test.shape, y_train.shape, y_test.shape)"
   ]
  },
  {
   "cell_type": "markdown",
   "metadata": {},
   "source": [
    "## Convert labels to onehot encoding"
   ]
  },
  {
   "cell_type": "code",
   "execution_count": 11,
   "metadata": {},
   "outputs": [],
   "source": [
    "y_train = to_categorical(y_train, 43)\n",
    "y_test = to_categorical(y_test, 43)"
   ]
  },
  {
   "cell_type": "markdown",
   "metadata": {},
   "source": [
    "## Now it's time to build the model"
   ]
  },
  {
   "cell_type": "code",
   "execution_count": 12,
   "metadata": {},
   "outputs": [
    {
     "name": "stdout",
     "output_type": "stream",
     "text": [
      "Metal device set to: Apple M1\n"
     ]
    },
    {
     "name": "stderr",
     "output_type": "stream",
     "text": [
      "2023-04-14 12:24:55.637440: I tensorflow/core/common_runtime/pluggable_device/pluggable_device_factory.cc:306] Could not identify NUMA node of platform GPU ID 0, defaulting to 0. Your kernel may not have been built with NUMA support.\n",
      "2023-04-14 12:24:55.637612: I tensorflow/core/common_runtime/pluggable_device/pluggable_device_factory.cc:272] Created TensorFlow device (/job:localhost/replica:0/task:0/device:GPU:0 with 0 MB memory) -> physical PluggableDevice (device: 0, name: METAL, pci bus id: <undefined>)\n"
     ]
    }
   ],
   "source": [
    "model = Sequential()\n",
    "model.add(Conv2D(filters=32, kernel_size=(5,5), activation='relu', input_shape=X_train.shape[1:]))\n",
    "model.add(Conv2D(filters=32, kernel_size=(5,5), activation='relu'))\n",
    "model.add(MaxPool2D(pool_size=(2, 2)))\n",
    "model.add(Dropout(rate=0.25))\n",
    "model.add(Conv2D(filters=64, kernel_size=(3, 3), activation='relu'))\n",
    "model.add(Conv2D(filters=64, kernel_size=(3, 3), activation='relu'))\n",
    "model.add(MaxPool2D(pool_size=(2, 2)))\n",
    "model.add(Dropout(rate=0.25))\n",
    "model.add(Flatten())\n",
    "model.add(Dense(256, activation='relu'))\n",
    "model.add(Dropout(rate=0.5))\n",
    "# We have 43 classes that's why we have defined 43 in the dense\n",
    "model.add(Dense(43, activation='softmax'))"
   ]
  },
  {
   "cell_type": "code",
   "execution_count": 13,
   "metadata": {},
   "outputs": [],
   "source": [
    "#Compilation of the model\n",
    "model.compile(loss='categorical_crossentropy', optimizer='adam', metrics=['accuracy'])"
   ]
  },
  {
   "cell_type": "code",
   "execution_count": null,
   "metadata": {},
   "outputs": [
    {
     "name": "stdout",
     "output_type": "stream",
     "text": [
      "Epoch 1/20\n"
     ]
    },
    {
     "name": "stderr",
     "output_type": "stream",
     "text": [
      "2023-04-14 12:24:56.486195: W tensorflow/core/platform/profile_utils/cpu_utils.cc:128] Failed to get CPU frequency: 0 Hz\n",
      "2023-04-14 12:24:56.857372: I tensorflow/core/grappler/optimizers/custom_graph_optimizer_registry.cc:114] Plugin optimizer for device_type GPU is enabled.\n"
     ]
    },
    {
     "name": "stdout",
     "output_type": "stream",
     "text": [
      "981/981 [==============================] - ETA: 0s - loss: 1.8535 - accuracy: 0.5454"
     ]
    },
    {
     "name": "stderr",
     "output_type": "stream",
     "text": [
      "2023-04-14 12:25:39.327970: I tensorflow/core/grappler/optimizers/custom_graph_optimizer_registry.cc:114] Plugin optimizer for device_type GPU is enabled.\n"
     ]
    },
    {
     "name": "stdout",
     "output_type": "stream",
     "text": [
      "981/981 [==============================] - 50s 44ms/step - loss: 1.8535 - accuracy: 0.5454 - val_loss: 0.4524 - val_accuracy: 0.8996\n",
      "Epoch 2/20\n",
      "309/981 [========>.....................] - ETA: 17s - loss: 0.6620 - accuracy: 0.8074"
     ]
    }
   ],
   "source": [
    "epochs = 20\n",
    "history = model.fit(X_train, y_train, batch_size=32, epochs=epochs, validation_data=(X_test, y_test))"
   ]
  },
  {
   "cell_type": "code",
   "execution_count": null,
   "metadata": {},
   "outputs": [],
   "source": [
    "model.summary()"
   ]
  },
  {
   "cell_type": "markdown",
   "metadata": {},
   "source": [
    "##  Visualising a Model"
   ]
  },
  {
   "cell_type": "code",
   "execution_count": null,
   "metadata": {},
   "outputs": [],
   "source": [
    "tf.keras.utils.plot_model(\n",
    "    model,\n",
    "    to_file=\"model.png\",\n",
    "    show_shapes=True,\n",
    "    show_dtype=True,\n",
    "    show_layer_names=True,\n",
    "    rankdir=\"TB\",\n",
    "    expand_nested=True,\n",
    "    dpi=96,\n",
    "    layer_range=None,\n",
    "    show_layer_activations=True,\n",
    ")"
   ]
  },
  {
   "cell_type": "code",
   "execution_count": null,
   "metadata": {},
   "outputs": [],
   "source": [
    "# accuracy \n",
    "plt.figure(0)\n",
    "plt.plot(history.history['accuracy'], label='training accuracy')\n",
    "plt.plot(history.history['val_accuracy'], label='val accuracy')\n",
    "plt.title('Accuracy')\n",
    "plt.xlabel('epochs')\n",
    "plt.ylabel('accuracy')\n",
    "plt.legend()\n",
    "plt.show()"
   ]
  },
  {
   "cell_type": "code",
   "execution_count": null,
   "metadata": {},
   "outputs": [],
   "source": [
    "# Loss\n",
    "plt.plot(history.history['loss'], label='training loss')\n",
    "plt.plot(history.history['val_loss'], label='val loss')\n",
    "plt.title('Loss')\n",
    "plt.xlabel('epochs')\n",
    "plt.ylabel('loss')\n",
    "plt.legend()\n",
    "plt.show()"
   ]
  },
  {
   "cell_type": "markdown",
   "metadata": {},
   "source": [
    "## Let's do testing on Test data"
   ]
  },
  {
   "cell_type": "code",
   "execution_count": null,
   "metadata": {},
   "outputs": [],
   "source": [
    "def testing(testcsv):\n",
    "    y_test = pd.read_csv(testcsv)\n",
    "    label = y_test[\"ClassId\"].values\n",
    "    imgs = y_test[\"Path\"].values\n",
    "    data=[]\n",
    "    for img in imgs:\n",
    "        image = Image.open(img)\n",
    "        image = image.resize((30,30))\n",
    "        data.append(np.array(image))\n",
    "    X_test=np.array(data)\n",
    "    return X_test,label"
   ]
  },
  {
   "cell_type": "code",
   "execution_count": null,
   "metadata": {},
   "outputs": [],
   "source": [
    "X_test, label = testing('Test.csv')"
   ]
  },
  {
   "cell_type": "code",
   "execution_count": null,
   "metadata": {},
   "outputs": [],
   "source": [
    "Y_pred = model.predict(X_test)\n",
    "\n",
    "Y_pred= np.argmax(Y_pred,axis=1)\n",
    "Y_pred"
   ]
  },
  {
   "cell_type": "markdown",
   "metadata": {},
   "source": [
    "## Accuracy with the test data"
   ]
  },
  {
   "cell_type": "code",
   "execution_count": null,
   "metadata": {},
   "outputs": [],
   "source": [
    "from sklearn.metrics import accuracy_score\n",
    "print(accuracy_score(label, Y_pred))"
   ]
  },
  {
   "cell_type": "markdown",
   "metadata": {},
   "source": [
    "## Save the model"
   ]
  },
  {
   "cell_type": "code",
   "execution_count": null,
   "metadata": {},
   "outputs": [],
   "source": [
    "model.save(\"./training/TSR.h5\")"
   ]
  },
  {
   "cell_type": "markdown",
   "metadata": {},
   "source": [
    "## Load the Model"
   ]
  },
  {
   "cell_type": "code",
   "execution_count": null,
   "metadata": {},
   "outputs": [],
   "source": [
    "import os\n",
    "# os.chdir(r'D:\\traffic')\n",
    "from keras.models import load_model\n",
    "model = load_model('./training/TSR.h5')"
   ]
  },
  {
   "cell_type": "code",
   "execution_count": null,
   "metadata": {},
   "outputs": [],
   "source": [
    "# Classes of trafic signs\n",
    "classes = { 0:'Speed limit (20km/h)',\n",
    "            1:'Speed limit (30km/h)', \n",
    "            2:'Speed limit (50km/h)', \n",
    "            3:'Speed limit (60km/h)', \n",
    "            4:'Speed limit (70km/h)', \n",
    "            5:'Speed limit (80km/h)', \n",
    "            6:'End of speed limit (80km/h)', \n",
    "            7:'Speed limit (100km/h)', \n",
    "            8:'Speed limit (120km/h)', \n",
    "            9:'No passing', \n",
    "            10:'No passing veh over 3.5 tons', \n",
    "            11:'Right-of-way at intersection', \n",
    "            12:'Priority road', \n",
    "            13:'Yield', \n",
    "            14:'Stop', \n",
    "            15:'No vehicles', \n",
    "            16:'Veh > 3.5 tons prohibited', \n",
    "            17:'No entry', \n",
    "            18:'General caution', \n",
    "            19:'Dangerous curve left', \n",
    "            20:'Dangerous curve right', \n",
    "            21:'Double curve', \n",
    "            22:'Bumpy road', \n",
    "            23:'Slippery road', \n",
    "            24:'Road narrows on the right', \n",
    "            25:'Road work', \n",
    "            26:'Traffic signals', \n",
    "            27:'Pedestrians',  \n",
    "            28:'Children crossing', \n",
    "            29:'Bicycles crossing', \n",
    "            30:'Beware of ice/snow',\n",
    "            31:'Wild animals crossing', \n",
    "            32:'End speed + passing limits', \n",
    "            33:'Turn right ahead', \n",
    "            34:'Turn left ahead', \n",
    "            35:'Ahead only', \n",
    "            36:'Go straight or right', \n",
    "            37:'Go straight or left', \n",
    "            38:'Keep right', \n",
    "            39:'Keep left', \n",
    "            40:'Roundabout mandatory', \n",
    "            41:'End of no passing', \n",
    "            42:'End no passing veh > 3.5 tons' }"
   ]
  },
  {
   "cell_type": "code",
   "execution_count": null,
   "metadata": {},
   "outputs": [],
   "source": [
    "from PIL import Image\n",
    "import numpy as np\n",
    "import matplotlib.pyplot as plt\n",
    "def test_on_img(img):\n",
    "    data=[]\n",
    "    image = Image.open(img)\n",
    "    image = image.resize((30,30))\n",
    "    data.append(np.array(image))\n",
    "    X_test=np.array(data)\n",
    "    predict_x = model.predict(X_test)\n",
    "    classes_x=np.argmax(predict_x,axis=1)\n",
    "    Y_pred = classes[int(classes_x)]\n",
    "    return image,Y_pred"
   ]
  },
  {
   "cell_type": "code",
   "execution_count": null,
   "metadata": {},
   "outputs": [],
   "source": [
    "plot,prediction = test_on_img(r'/Users/prashanthreddy/Documents/Major project/traffic-sign-detection-main/Test/00001.png')\n",
    " \n",
    "print(\"Predicted traffic sign is: \", prediction)\n",
    "plt.imshow(plot)\n",
    "plt.show()"
   ]
  },
  {
   "cell_type": "code",
   "execution_count": null,
   "metadata": {},
   "outputs": [],
   "source": []
  }
 ],
 "metadata": {
  "kernelspec": {
   "display_name": "Python 3.9 (tensorflow)",
   "language": "python",
   "name": "tensorflow"
  },
  "language_info": {
   "codemirror_mode": {
    "name": "ipython",
    "version": 3
   },
   "file_extension": ".py",
   "mimetype": "text/x-python",
   "name": "python",
   "nbconvert_exporter": "python",
   "pygments_lexer": "ipython3",
   "version": "3.9.13"
  }
 },
 "nbformat": 4,
 "nbformat_minor": 4
}
